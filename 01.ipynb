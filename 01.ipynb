{
 "cells": [
  {
   "cell_type": "markdown",
   "metadata": {},
   "source": [
    "### Iniciando App Flask"
   ]
  },
  {
   "cell_type": "markdown",
   "metadata": {},
   "source": [
    "#### Importando Bibliotecas\n",
    "\n",
    "`import secrets`\n",
    "\n",
    "`from flask import Flask, render_template, redirect, request`"
   ]
  },
  {
   "cell_type": "markdown",
   "metadata": {},
   "source": [
    "#### Iniciando Aplicação"
   ]
  },
  {
   "cell_type": "code",
   "execution_count": null,
   "metadata": {
    "vscode": {
     "languageId": "plaintext"
    }
   },
   "outputs": [],
   "source": [
    "app = Flask(__name__)\n",
    "# aqui definimos uma chave de segurança interna hexadecimal de 16 caracteres ultilizando a biblioteca secrets.\n",
    "app.config['SECRET_KEY'] = secrets.token_hex(16)"
   ]
  },
  {
   "cell_type": "markdown",
   "metadata": {},
   "source": [
    "#### Criando uma Pagina `html` ( templates/login.html )  Para Retornar na Rota `/login`"
   ]
  },
  {
   "cell_type": "code",
   "execution_count": null,
   "metadata": {
    "vscode": {
     "languageId": "plaintext"
    }
   },
   "outputs": [],
   "source": [
    "<!DOCTYPE html>\n",
    "<html lang=\"pt-BR\">\n",
    "<head>\n",
    "    <meta charset=\"UTF-8\">\n",
    "    <meta http-equiv=\"X-UA-Compatible\" content=\"IE=edge\">\n",
    "    <meta name=\"viewport\" content=\"width=device-width, initial-scale=1.0\">\n",
    "    <title>Login</title>\n",
    "    <link rel=\"stylesheet\" href=\"../static/css/login.css\">\n",
    "</head>\n",
    "<body>\n",
    "    <div class=\"page\">\n",
    "       <form action=\"/login\" id=\"login\" method=\"POST\" class=\"formLogin\">\n",
    "            <h1>Login</h1>\n",
    "            <p>Digite os seus dados de acesso no campo abaixo.</p>\n",
    "            <label for=\"email\">E-mail</label>\n",
    "            <input type=\"email\" name=\"email\" placeholder=\"Digite seu e-mail\" autofocus=\"true\" />\n",
    "            <label for=\"password\">Senha</label>\n",
    "            <input type=\"password\" name=\"senha\" placeholder=\"Digite sua Senha\" />\n",
    "            <!--<a href=\"/\">Esqueci minha senha</a> -->\n",
    "            <input type=\"submit\" value=\"Acessar\" class=\"btn\" />\n",
    "        </form>\n",
    "    </div>\n",
    "    \n",
    "</body>\n",
    "</html>"
   ]
  },
  {
   "cell_type": "markdown",
   "metadata": {},
   "source": [
    "#### Css da Pagina `login.html` ( static/login.css )"
   ]
  },
  {
   "cell_type": "code",
   "execution_count": null,
   "metadata": {
    "vscode": {
     "languageId": "plaintext"
    }
   },
   "outputs": [],
   "source": [
    "@import url('https://fonts.googleapis.com/css2?family=Inter:wght@100;200;300;400;500;600;700;800;900&display=swap');\n",
    "\n",
    "body {\n",
    "    font-family: 'Inter', sans-serif;\n",
    "    margin: 0;\n",
    "    padding: 0;\n",
    "    color: #023047\n",
    "}\n",
    "\n",
    ".page {\n",
    "    display: flex;\n",
    "    flex-direction: column;\n",
    "    align-items: center;\n",
    "    align-content: center;\n",
    "    justify-content: center;\n",
    "    width: 100%;\n",
    "    height: 100vh;\n",
    "    background-color: #480ca8;\n",
    "}\n",
    "\n",
    ".formLogin {\n",
    "    display: flex;\n",
    "    flex-direction: column;\n",
    "    background-color: #fff;\n",
    "    border-radius: 7px;\n",
    "    padding: 40px;\n",
    "    box-shadow: 10px 10px 40px rgba(0, 0, 0, 0.4);\n",
    "    gap: 5px\n",
    "}\n",
    "\n",
    ".areaLogin img {\n",
    "    width: 420px;\n",
    "}\n",
    "\n",
    ".formLogin h1 {\n",
    "    padding: 0;\n",
    "    margin: 0;\n",
    "    font-weight: 500;\n",
    "    font-size: 2.3em;\n",
    "}\n",
    "\n",
    ".formLogin p {\n",
    "    display: inline-block;\n",
    "    font-size: 14px;\n",
    "    color: #666;\n",
    "    margin-bottom: 25px;\n",
    "}\n",
    "\n",
    ".formLogin input {\n",
    "    padding: 15px;\n",
    "    font-size: 14px;\n",
    "    border: 1px solid #ccc;\n",
    "    margin-bottom: 20px;\n",
    "    margin-top: 5px;\n",
    "    border-radius: 4px;\n",
    "    transition: all linear 160ms;\n",
    "    outline: none;\n",
    "}\n",
    "\n",
    "\n",
    ".formLogin input:focus {\n",
    "    border: 1px solid #f72585;\n",
    "}\n",
    "\n",
    ".formLogin label {\n",
    "    font-size: 14px;\n",
    "    font-weight: 600;\n",
    "}\n",
    "\n",
    ".formLogin a {\n",
    "    display: inline-block;\n",
    "    margin-bottom: 20px;\n",
    "    font-size: 13px;\n",
    "    color: #555;\n",
    "    transition: all linear 160ms;\n",
    "}\n",
    "\n",
    ".formLogin a:hover {\n",
    "    color: #f72585;\n",
    "}\n",
    "\n",
    ".btn {\n",
    "    background-color: #f72585;\n",
    "    color: #fff;\n",
    "    font-size: 14px;\n",
    "    font-weight: 600;\n",
    "    border: none !important;\n",
    "    transition: all linear 160ms;\n",
    "    cursor: pointer;\n",
    "    margin: 0 !important;\n",
    "\n",
    "}\n",
    "\n",
    ".btn:hover {\n",
    "    transform: scale(1.05);\n",
    "    background-color: #ff0676;\n",
    "\n",
    "}"
   ]
  },
  {
   "cell_type": "markdown",
   "metadata": {},
   "source": [
    "#### Criando a Rota e Capturando os Dados do Formulário"
   ]
  },
  {
   "cell_type": "code",
   "execution_count": null,
   "metadata": {
    "vscode": {
     "languageId": "plaintext"
    }
   },
   "outputs": [],
   "source": [
    "@app.route('/')\n",
    "def home(): \n",
    "    return render_template('login.html')\n",
    "\n",
    "@app.route('/login', methods=['POST'])\n",
    "def login():\n",
    "    # recuperando dados enviados do formulário\n",
    "    email = request.form.get('email')\n",
    "    senha = request.form.get('senha')\n",
    "\n",
    "    # retornando para a pagina login\n",
    "    return redirect('/')\n",
    "\n",
    "\n",
    "\n",
    "# aqui verificamos se o arquivo está sendo execultado de inicio ou se está sendo exportado\n",
    "# se execultado de inicio ele inicializa o app, se algum modulo extiver sendo exportado ele não execulta\n",
    "if __name__ in \"__main__\":\n",
    "app.run(debug=True)    "
   ]
  },
  {
   "cell_type": "markdown",
   "metadata": {},
   "source": [
    "#### Validando Dados e Redirecionando Usuario"
   ]
  },
  {
   "cell_type": "code",
   "execution_count": null,
   "metadata": {
    "vscode": {
     "languageId": "plaintext"
    }
   },
   "outputs": [],
   "source": [
    "@app.route('/login', methods=['POST'])\n",
    "def login():\n",
    "    # recuperando dados enviados do formulário\n",
    "    email = request.form.get('email')\n",
    "    senha = request.form.get('senha')\n",
    "\n",
    "    # dados fictisios / retorno de banco de dados\n",
    "\n",
    "    user = 'henrique@gmail.com'\n",
    "    senhaUser = '123'\n",
    "\n",
    "    # verificando senha e email \n",
    "    if email == user and senha == senhaUser:\n",
    "        return render_template('usuario.html')\n",
    "    else:\n",
    "        # retornando para a pagina login\n",
    "        return redirect('/')    \n",
    "\n",
    "    "
   ]
  },
  {
   "cell_type": "markdown",
   "metadata": {},
   "source": [
    "#### Enviando alertas para o Front-end"
   ]
  },
  {
   "cell_type": "code",
   "execution_count": null,
   "metadata": {
    "vscode": {
     "languageId": "plaintext"
    }
   },
   "outputs": [],
   "source": [
    "# verificando senha e email \n",
    "    if email == user and senha == senhaUser:\n",
    "        return render_template('usuario.html')\n",
    "    else:\n",
    "        # retornando para a pagina login\n",
    "        flash('Usuario Invalido')  \n",
    "        return redirect('/')    "
   ]
  },
  {
   "cell_type": "markdown",
   "metadata": {},
   "source": [
    "##### Na pagina html `login.html` chamo o argumento flash bem no inicio do body"
   ]
  },
  {
   "cell_type": "code",
   "execution_count": null,
   "metadata": {
    "vscode": {
     "languageId": "plaintext"
    }
   },
   "outputs": [],
   "source": [
    "{% set mensagem = get_flashed_messages() %}\n",
    "{% if mensagem %}\n",
    "    <div class=\"flash_alerta\">\n",
    "        {{mensagem[0]}}\n",
    "    </div>\n",
    "{% endif %}"
   ]
  }
 ],
 "metadata": {
  "language_info": {
   "name": "python"
  }
 },
 "nbformat": 4,
 "nbformat_minor": 2
}
